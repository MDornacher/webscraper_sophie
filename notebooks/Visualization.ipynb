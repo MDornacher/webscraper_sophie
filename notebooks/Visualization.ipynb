{
 "cells": [
  {
   "cell_type": "markdown",
   "id": "172e100d-3129-4973-8ffd-eb8f8b1c2a1e",
   "metadata": {},
   "source": [
    "## Parse DB as DataFrame"
   ]
  },
  {
   "cell_type": "code",
   "execution_count": 95,
   "id": "606d39fb",
   "metadata": {},
   "outputs": [],
   "source": [
    "import pandas as pd\n",
    "import mysql.connector as connection"
   ]
  },
  {
   "cell_type": "code",
   "execution_count": 136,
   "id": "19d03e3d",
   "metadata": {},
   "outputs": [
    {
     "name": "stderr",
     "output_type": "stream",
     "text": [
      "/home/manuel/.virtualenvs/webscraper/lib/python3.10/site-packages/pandas/io/sql.py:761: UserWarning: pandas only support SQLAlchemy connectable(engine/connection) ordatabase string URI or sqlite3 DBAPI2 connectionother DBAPI2 objects are not tested, please consider using SQLAlchemy\n",
      "  warnings.warn(\n"
     ]
    },
    {
     "name": "stdout",
     "output_type": "stream",
     "text": [
      "Database found with 2854 entries\n"
     ]
    }
   ],
   "source": [
    "try:\n",
    "    mydb = connection.connect(\n",
    "        host=\"192.168.1.52\", \n",
    "        port=\"3307\",\n",
    "        database=\"webscraper_database\",\n",
    "        user=\"webscraper\", \n",
    "        passwd=\"ackj8636&fkf\",\n",
    "        use_pure=True\n",
    "    )\n",
    "    query = \"Select * from condos;\"\n",
    "    df = pd.read_sql(query,mydb)\n",
    "    mydb.close() #close the connection\n",
    "    \n",
    "    df.set_index(\"id\", inplace=True)\n",
    "    print(f\"Database found with {len(df)} entries\")\n",
    "    \n",
    "except Exception as e:\n",
    "    mydb.close()\n",
    "    print(str(e))"
   ]
  },
  {
   "cell_type": "markdown",
   "id": "3584a689-fead-4fed-9a6e-2a00ac1e4344",
   "metadata": {},
   "source": [
    "## Personal Filter"
   ]
  },
  {
   "cell_type": "code",
   "execution_count": 137,
   "id": "f9c9c3b3-e8a6-47b5-a6a4-0a5c1e0acc4e",
   "metadata": {},
   "outputs": [],
   "source": [
    "df = df[df.room_count>=4]"
   ]
  },
  {
   "cell_type": "code",
   "execution_count": 138,
   "id": "11771119-e960-42e4-9b54-ed43fb02d09f",
   "metadata": {},
   "outputs": [
    {
     "data": {
      "text/plain": [
       "116"
      ]
     },
     "execution_count": 138,
     "metadata": {},
     "output_type": "execute_result"
    }
   ],
   "source": [
    "len(df)"
   ]
  },
  {
   "cell_type": "markdown",
   "id": "eccb7e24-7aab-43b1-85fb-cb53418730d2",
   "metadata": {},
   "source": [
    "## Address to Lat/Lon"
   ]
  },
  {
   "cell_type": "code",
   "execution_count": 139,
   "id": "dda6307f-a9b1-48b1-ab88-58a5e8830098",
   "metadata": {},
   "outputs": [],
   "source": [
    "from geopy import Nominatim\n",
    "from geopy.extra.rate_limiter import RateLimiter\n",
    "\n",
    "from tqdm import tqdm\n",
    "tqdm.pandas()"
   ]
  },
  {
   "cell_type": "code",
   "execution_count": 140,
   "id": "caadcc0d-0c79-4792-af71-bde441f69277",
   "metadata": {},
   "outputs": [],
   "source": [
    "locator = Nominatim(user_agent=\"myGeocoder\")\n",
    "geocode = RateLimiter(locator.geocode, min_delay_seconds=0.5)"
   ]
  },
  {
   "cell_type": "code",
   "execution_count": 141,
   "id": "4bacb12e-00ce-45d7-83fe-36baa32812f8",
   "metadata": {},
   "outputs": [
    {
     "name": "stderr",
     "output_type": "stream",
     "text": [
      "100%|████████████████████████████████████████████████████████████████████████| 116/116 [00:58<00:00,  1.99it/s]\n"
     ]
    }
   ],
   "source": [
    "df[\"location\"] = df[\"address\"].progress_apply(geocode)\n",
    "\n",
    "df[\"point\"] = df[\"location\"].apply(lambda loc: tuple(loc.point) if loc else None)\n",
    "df[[\"latitude\", \"longitude\", \"altitude\"]] = pd.DataFrame(df[\"point\"].tolist(), index=df.index)\n",
    "\n",
    "df = df.drop(columns=[\"location\", \"point\", \"altitude\"])"
   ]
  },
  {
   "cell_type": "code",
   "execution_count": 142,
   "id": "2b89bc7c-9e01-487b-a383-eeb6fa66341d",
   "metadata": {},
   "outputs": [],
   "source": [
    "import geopandas as gpd"
   ]
  },
  {
   "cell_type": "code",
   "execution_count": 143,
   "id": "17fe1d09-b821-48cd-98e4-a9a5b9668d36",
   "metadata": {},
   "outputs": [],
   "source": [
    "gdf = gpd.GeoDataFrame(df, geometry=gpd.points_from_xy(df.longitude, df.latitude)).set_crs(\"epsg:4326\")"
   ]
  },
  {
   "cell_type": "code",
   "execution_count": 144,
   "id": "fda2e2a4-2e7c-4dce-9511-f4bc40201bc2",
   "metadata": {},
   "outputs": [
    {
     "data": {
      "text/plain": [
       "(8, 116)"
      ]
     },
     "execution_count": 144,
     "metadata": {},
     "output_type": "execute_result"
    }
   ],
   "source": [
    "len(gdf[gdf.is_empty]), len(gdf)"
   ]
  },
  {
   "cell_type": "code",
   "execution_count": 145,
   "id": "4d7dee3d-9201-4777-bc03-53311dad7922",
   "metadata": {},
   "outputs": [
    {
     "data": {
      "text/html": [
       "<div style=\"width:100%;\"><div style=\"position:relative;width:100%;height:0;padding-bottom:60%;\"><span style=\"color:#565656\">Make this Notebook Trusted to load map: File -> Trust Notebook</span><iframe srcdoc=\"&lt;!DOCTYPE html&gt;\n",
       "&lt;head&gt;    \n",
       "    &lt;meta http-equiv=&quot;content-type&quot; content=&quot;text/html; charset=UTF-8&quot; /&gt;\n",
       "    \n",
       "        &lt;script&gt;\n",
       "            L_NO_TOUCH = false;\n",
       "            L_DISABLE_3D = false;\n",
       "        &lt;/script&gt;\n",
       "    \n",
       "    &lt;style&gt;html, body {width: 100%;height: 100%;margin: 0;padding: 0;}&lt;/style&gt;\n",
       "    &lt;style&gt;#map {position:absolute;top:0;bottom:0;right:0;left:0;}&lt;/style&gt;\n",
       "    &lt;script src=&quot;https://cdn.jsdelivr.net/npm/leaflet@1.6.0/dist/leaflet.js&quot;&gt;&lt;/script&gt;\n",
       "    &lt;script src=&quot;https://code.jquery.com/jquery-1.12.4.min.js&quot;&gt;&lt;/script&gt;\n",
       "    &lt;script src=&quot;https://maxcdn.bootstrapcdn.com/bootstrap/3.2.0/js/bootstrap.min.js&quot;&gt;&lt;/script&gt;\n",
       "    &lt;script src=&quot;https://cdnjs.cloudflare.com/ajax/libs/Leaflet.awesome-markers/2.0.2/leaflet.awesome-markers.js&quot;&gt;&lt;/script&gt;\n",
       "    &lt;link rel=&quot;stylesheet&quot; href=&quot;https://cdn.jsdelivr.net/npm/leaflet@1.6.0/dist/leaflet.css&quot;/&gt;\n",
       "    &lt;link rel=&quot;stylesheet&quot; href=&quot;https://maxcdn.bootstrapcdn.com/bootstrap/3.2.0/css/bootstrap.min.css&quot;/&gt;\n",
       "    &lt;link rel=&quot;stylesheet&quot; href=&quot;https://maxcdn.bootstrapcdn.com/bootstrap/3.2.0/css/bootstrap-theme.min.css&quot;/&gt;\n",
       "    &lt;link rel=&quot;stylesheet&quot; href=&quot;https://maxcdn.bootstrapcdn.com/font-awesome/4.6.3/css/font-awesome.min.css&quot;/&gt;\n",
       "    &lt;link rel=&quot;stylesheet&quot; href=&quot;https://cdnjs.cloudflare.com/ajax/libs/Leaflet.awesome-markers/2.0.2/leaflet.awesome-markers.css&quot;/&gt;\n",
       "    &lt;link rel=&quot;stylesheet&quot; href=&quot;https://cdn.jsdelivr.net/gh/python-visualization/folium/folium/templates/leaflet.awesome.rotate.min.css&quot;/&gt;\n",
       "    \n",
       "            &lt;meta name=&quot;viewport&quot; content=&quot;width=device-width,\n",
       "                initial-scale=1.0, maximum-scale=1.0, user-scalable=no&quot; /&gt;\n",
       "            &lt;style&gt;\n",
       "                #map_6e2f55cad2f04f0117b23a2839bc8b6f {\n",
       "                    position: relative;\n",
       "                    width: 100.0%;\n",
       "                    height: 100.0%;\n",
       "                    left: 0.0%;\n",
       "                    top: 0.0%;\n",
       "                }\n",
       "            &lt;/style&gt;\n",
       "        \n",
       "    \n",
       "                    &lt;style&gt;\n",
       "                        .foliumtooltip {\n",
       "                            \n",
       "                        }\n",
       "                       .foliumtooltip table{\n",
       "                            margin: auto;\n",
       "                        }\n",
       "                        .foliumtooltip tr{\n",
       "                            text-align: left;\n",
       "                        }\n",
       "                        .foliumtooltip th{\n",
       "                            padding: 2px; padding-right: 8px;\n",
       "                        }\n",
       "                    &lt;/style&gt;\n",
       "            \n",
       "&lt;/head&gt;\n",
       "&lt;body&gt;    \n",
       "    \n",
       "            &lt;div class=&quot;folium-map&quot; id=&quot;map_6e2f55cad2f04f0117b23a2839bc8b6f&quot; &gt;&lt;/div&gt;\n",
       "        \n",
       "&lt;/body&gt;\n",
       "&lt;script&gt;    \n",
       "    \n",
       "            var map_6e2f55cad2f04f0117b23a2839bc8b6f = L.map(\n",
       "                &quot;map_6e2f55cad2f04f0117b23a2839bc8b6f&quot;,\n",
       "                {\n",
       "                    center: [47.07462589206162, 15.44548299195586],\n",
       "                    crs: L.CRS.EPSG3857,\n",
       "                    zoom: 10,\n",
       "                    zoomControl: true,\n",
       "                    preferCanvas: false,\n",
       "                }\n",
       "            );\n",
       "            L.control.scale().addTo(map_6e2f55cad2f04f0117b23a2839bc8b6f);\n",
       "\n",
       "            \n",
       "\n",
       "        \n",
       "    \n",
       "            var tile_layer_e3651916a6f940ee1e053405a57c2f7e = L.tileLayer(\n",
       "                &quot;https://{s}.tile.openstreetmap.org/{z}/{x}/{y}.png&quot;,\n",
       "                {&quot;attribution&quot;: &quot;Data by \\u0026copy; \\u003ca href=\\&quot;http://openstreetmap.org\\&quot;\\u003eOpenStreetMap\\u003c/a\\u003e, under \\u003ca href=\\&quot;http://www.openstreetmap.org/copyright\\&quot;\\u003eODbL\\u003c/a\\u003e.&quot;, &quot;detectRetina&quot;: false, &quot;maxNativeZoom&quot;: 18, &quot;maxZoom&quot;: 18, &quot;minZoom&quot;: 0, &quot;noWrap&quot;: false, &quot;opacity&quot;: 1, &quot;subdomains&quot;: &quot;abc&quot;, &quot;tms&quot;: false}\n",
       "            ).addTo(map_6e2f55cad2f04f0117b23a2839bc8b6f);\n",
       "        \n",
       "    \n",
       "            map_6e2f55cad2f04f0117b23a2839bc8b6f.fitBounds(\n",
       "                [[47.0324741, 15.38679098391172], [47.116777684123235, 15.504175]],\n",
       "                {}\n",
       "            );\n",
       "        \n",
       "    \n",
       "        function geo_json_142a911769866069514e1c0580a7d684_styler(feature) {\n",
       "            switch(feature.id) {\n",
       "                default:\n",
       "                    return {&quot;fillOpacity&quot;: 0.5, &quot;weight&quot;: 2};\n",
       "            }\n",
       "        }\n",
       "        function geo_json_142a911769866069514e1c0580a7d684_highlighter(feature) {\n",
       "            switch(feature.id) {\n",
       "                default:\n",
       "                    return {&quot;fillOpacity&quot;: 0.75};\n",
       "            }\n",
       "        }\n",
       "        function geo_json_142a911769866069514e1c0580a7d684_pointToLayer(feature, latlng) {\n",
       "            var opts = {&quot;bubblingMouseEvents&quot;: true, &quot;color&quot;: &quot;#3388ff&quot;, &quot;dashArray&quot;: null, &quot;dashOffset&quot;: null, &quot;fill&quot;: true, &quot;fillColor&quot;: &quot;#3388ff&quot;, &quot;fillOpacity&quot;: 0.2, &quot;fillRule&quot;: &quot;evenodd&quot;, &quot;lineCap&quot;: &quot;round&quot;, &quot;lineJoin&quot;: &quot;round&quot;, &quot;opacity&quot;: 1.0, &quot;radius&quot;: 2, &quot;stroke&quot;: true, &quot;weight&quot;: 3};\n",
       "            \n",
       "            let style = geo_json_142a911769866069514e1c0580a7d684_styler(feature)\n",
       "            Object.assign(opts, style)\n",
       "            \n",
       "            return new L.CircleMarker(latlng, opts)\n",
       "        }\n",
       "\n",
       "        function geo_json_142a911769866069514e1c0580a7d684_onEachFeature(feature, layer) {\n",
       "            layer.on({\n",
       "                mouseout: function(e) {\n",
       "                    if(typeof e.target.setStyle === &quot;function&quot;){\n",
       "                        geo_json_142a911769866069514e1c0580a7d684.resetStyle(e.target);\n",
       "                    }\n",
       "                },\n",
       "                mouseover: function(e) {\n",
       "                    if(typeof e.target.setStyle === &quot;function&quot;){\n",
       "                        const highlightStyle = geo_json_142a911769866069514e1c0580a7d684_highlighter(e.target.feature)\n",
       "                        e.target.setStyle(highlightStyle);\n",
       "                    }\n",
       "                },\n",
       "            });\n",
       "        };\n",
       "        var geo_json_142a911769866069514e1c0580a7d684 = L.geoJson(null, {\n",
       "                onEachFeature: geo_json_142a911769866069514e1c0580a7d684_onEachFeature,\n",
       "            \n",
       "                style: geo_json_142a911769866069514e1c0580a7d684_styler,\n",
       "                pointToLayer: geo_json_142a911769866069514e1c0580a7d684_pointToLayer\n",
       "        });\n",
       "\n",
       "        function geo_json_142a911769866069514e1c0580a7d684_add (data) {\n",
       "            geo_json_142a911769866069514e1c0580a7d684\n",
       "                .addData(data)\n",
       "                .addTo(map_6e2f55cad2f04f0117b23a2839bc8b6f);\n",
       "        }\n",
       "            geo_json_142a911769866069514e1c0580a7d684_add({&quot;bbox&quot;: [15.38679098391172, 47.0324741, 15.504175, 47.116777684123235], &quot;features&quot;: [{&quot;bbox&quot;: [15.3977708, 47.0703007, 15.3977708, 47.0703007], &quot;geometry&quot;: {&quot;coordinates&quot;: [15.3977708, 47.0703007], &quot;type&quot;: &quot;Point&quot;}, &quot;id&quot;: &quot;0&quot;, &quot;properties&quot;: {&quot;id&quot;: 60, &quot;price&quot;: 679, &quot;price_per_m2&quot;: 8.4875, &quot;room_count&quot;: 4}, &quot;type&quot;: &quot;Feature&quot;}, {&quot;bbox&quot;: [15.38679098391172, 47.09321588466084, 15.38679098391172, 47.09321588466084], &quot;geometry&quot;: {&quot;coordinates&quot;: [15.38679098391172, 47.09321588466084], &quot;type&quot;: &quot;Point&quot;}, &quot;id&quot;: &quot;1&quot;, &quot;properties&quot;: {&quot;id&quot;: 61, &quot;price&quot;: 679, &quot;price_per_m2&quot;: 8.4875, &quot;room_count&quot;: 4}, &quot;type&quot;: &quot;Feature&quot;}, {&quot;bbox&quot;: [15.4490865, 47.0798646, 15.4490865, 47.0798646], &quot;geometry&quot;: {&quot;coordinates&quot;: [15.4490865, 47.0798646], &quot;type&quot;: &quot;Point&quot;}, &quot;id&quot;: &quot;2&quot;, &quot;properties&quot;: {&quot;id&quot;: 82, &quot;price&quot;: 1379, &quot;price_per_m2&quot;: 10.447, &quot;room_count&quot;: 5}, &quot;type&quot;: &quot;Feature&quot;}, {&quot;bbox&quot;: [15.4324822, 47.086431, 15.4324822, 47.086431], &quot;geometry&quot;: {&quot;coordinates&quot;: [15.4324822, 47.086431], &quot;type&quot;: &quot;Point&quot;}, &quot;id&quot;: &quot;3&quot;, &quot;properties&quot;: {&quot;id&quot;: 127, &quot;price&quot;: 1280, &quot;price_per_m2&quot;: 9.14286, &quot;room_count&quot;: 6}, &quot;type&quot;: &quot;Feature&quot;}, {&quot;bbox&quot;: [15.449771, 47.076035, 15.449771, 47.076035], &quot;geometry&quot;: {&quot;coordinates&quot;: [15.449771, 47.076035], &quot;type&quot;: &quot;Point&quot;}, &quot;id&quot;: &quot;4&quot;, &quot;properties&quot;: {&quot;id&quot;: 152, &quot;price&quot;: 1138, &quot;price_per_m2&quot;: 9.40496, &quot;room_count&quot;: 4}, &quot;type&quot;: &quot;Feature&quot;}, {&quot;bbox&quot;: [15.38899890091407, 47.0628749, 15.38899890091407, 47.0628749], &quot;geometry&quot;: {&quot;coordinates&quot;: [15.38899890091407, 47.0628749], &quot;type&quot;: &quot;Point&quot;}, &quot;id&quot;: &quot;5&quot;, &quot;properties&quot;: {&quot;id&quot;: 155, &quot;price&quot;: 602, &quot;price_per_m2&quot;: 7.34146, &quot;room_count&quot;: 4}, &quot;type&quot;: &quot;Feature&quot;}, {&quot;bbox&quot;: [15.451728155381556, 47.07325005, 15.451728155381556, 47.07325005], &quot;geometry&quot;: {&quot;coordinates&quot;: [15.451728155381556, 47.07325005], &quot;type&quot;: &quot;Point&quot;}, &quot;id&quot;: &quot;6&quot;, &quot;properties&quot;: {&quot;id&quot;: 174, &quot;price&quot;: 0, &quot;price_per_m2&quot;: 0.0, &quot;room_count&quot;: 4}, &quot;type&quot;: &quot;Feature&quot;}, {&quot;bbox&quot;: [15.3903719, 47.0601704, 15.3903719, 47.0601704], &quot;geometry&quot;: {&quot;coordinates&quot;: [15.3903719, 47.0601704], &quot;type&quot;: &quot;Point&quot;}, &quot;id&quot;: &quot;7&quot;, &quot;properties&quot;: {&quot;id&quot;: 190, &quot;price&quot;: 1177, &quot;price_per_m2&quot;: 10.2348, &quot;room_count&quot;: 5}, &quot;type&quot;: &quot;Feature&quot;}, {&quot;bbox&quot;: [15.4484966, 47.0793082, 15.4484966, 47.0793082], &quot;geometry&quot;: {&quot;coordinates&quot;: [15.4484966, 47.0793082], &quot;type&quot;: &quot;Point&quot;}, &quot;id&quot;: &quot;8&quot;, &quot;properties&quot;: {&quot;id&quot;: 200, &quot;price&quot;: 0, &quot;price_per_m2&quot;: 0.0, &quot;room_count&quot;: 4}, &quot;type&quot;: &quot;Feature&quot;}, {&quot;bbox&quot;: [15.4585302, 47.0840261, 15.4585302, 47.0840261], &quot;geometry&quot;: {&quot;coordinates&quot;: [15.4585302, 47.0840261], &quot;type&quot;: &quot;Point&quot;}, &quot;id&quot;: &quot;9&quot;, &quot;properties&quot;: {&quot;id&quot;: 228, &quot;price&quot;: 1395, &quot;price_per_m2&quot;: 12.4554, &quot;room_count&quot;: 4}, &quot;type&quot;: &quot;Feature&quot;}, {&quot;bbox&quot;: [15.444481, 47.0929087, 15.444481, 47.0929087], &quot;geometry&quot;: {&quot;coordinates&quot;: [15.444481, 47.0929087], &quot;type&quot;: &quot;Point&quot;}, &quot;id&quot;: &quot;10&quot;, &quot;properties&quot;: {&quot;id&quot;: 279, &quot;price&quot;: 1569, &quot;price_per_m2&quot;: 12.552, &quot;room_count&quot;: 4}, &quot;type&quot;: &quot;Feature&quot;}, {&quot;bbox&quot;: [15.4451457, 47.0660207, 15.4451457, 47.0660207], &quot;geometry&quot;: {&quot;coordinates&quot;: [15.4451457, 47.0660207], &quot;type&quot;: &quot;Point&quot;}, &quot;id&quot;: &quot;11&quot;, &quot;properties&quot;: {&quot;id&quot;: 346, &quot;price&quot;: 1298, &quot;price_per_m2&quot;: 9.07692, &quot;room_count&quot;: 4}, &quot;type&quot;: &quot;Feature&quot;}, {&quot;bbox&quot;: [15.44849275923686, 47.0695693, 15.44849275923686, 47.0695693], &quot;geometry&quot;: {&quot;coordinates&quot;: [15.44849275923686, 47.0695693], &quot;type&quot;: &quot;Point&quot;}, &quot;id&quot;: &quot;12&quot;, &quot;properties&quot;: {&quot;id&quot;: 372, &quot;price&quot;: 0, &quot;price_per_m2&quot;: 0.0, &quot;room_count&quot;: 4}, &quot;type&quot;: &quot;Feature&quot;}, {&quot;bbox&quot;: [15.4668246, 47.0572329, 15.4668246, 47.0572329], &quot;geometry&quot;: {&quot;coordinates&quot;: [15.4668246, 47.0572329], &quot;type&quot;: &quot;Point&quot;}, &quot;id&quot;: &quot;13&quot;, &quot;properties&quot;: {&quot;id&quot;: 436, &quot;price&quot;: 640, &quot;price_per_m2&quot;: 9.14286, &quot;room_count&quot;: 4}, &quot;type&quot;: &quot;Feature&quot;}, {&quot;bbox&quot;: [15.41678349808732, 47.0742815, 15.41678349808732, 47.0742815], &quot;geometry&quot;: {&quot;coordinates&quot;: [15.41678349808732, 47.0742815], &quot;type&quot;: &quot;Point&quot;}, &quot;id&quot;: &quot;14&quot;, &quot;properties&quot;: {&quot;id&quot;: 556, &quot;price&quot;: 985, &quot;price_per_m2&quot;: 12.1605, &quot;room_count&quot;: 4}, &quot;type&quot;: &quot;Feature&quot;}, {&quot;bbox&quot;: [15.439002411208577, 47.07967745, 15.439002411208577, 47.07967745], &quot;geometry&quot;: {&quot;coordinates&quot;: [15.439002411208577, 47.07967745], &quot;type&quot;: &quot;Point&quot;}, &quot;id&quot;: &quot;15&quot;, &quot;properties&quot;: {&quot;id&quot;: 573, &quot;price&quot;: 994, &quot;price_per_m2&quot;: 8.875, &quot;room_count&quot;: 5}, &quot;type&quot;: &quot;Feature&quot;}, {&quot;bbox&quot;: [15.4469845, 47.0674386, 15.4469845, 47.0674386], &quot;geometry&quot;: {&quot;coordinates&quot;: [15.4469845, 47.0674386], &quot;type&quot;: &quot;Point&quot;}, &quot;id&quot;: &quot;16&quot;, &quot;properties&quot;: {&quot;id&quot;: 576, &quot;price&quot;: 0, &quot;price_per_m2&quot;: 0.0, &quot;room_count&quot;: 4}, &quot;type&quot;: &quot;Feature&quot;}, {&quot;bbox&quot;: [15.4333577, 47.0663465, 15.4333577, 47.0663465], &quot;geometry&quot;: {&quot;coordinates&quot;: [15.4333577, 47.0663465], &quot;type&quot;: &quot;Point&quot;}, &quot;id&quot;: &quot;17&quot;, &quot;properties&quot;: {&quot;id&quot;: 600, &quot;price&quot;: 899, &quot;price_per_m2&quot;: 10.2159, &quot;room_count&quot;: 4}, &quot;type&quot;: &quot;Feature&quot;}, {&quot;bbox&quot;: [15.428123873634814, 47.0767096, 15.428123873634814, 47.0767096], &quot;geometry&quot;: {&quot;coordinates&quot;: [15.428123873634814, 47.0767096], &quot;type&quot;: &quot;Point&quot;}, &quot;id&quot;: &quot;18&quot;, &quot;properties&quot;: {&quot;id&quot;: 668, &quot;price&quot;: 1121, &quot;price_per_m2&quot;: 10.1909, &quot;room_count&quot;: 5}, &quot;type&quot;: &quot;Feature&quot;}, {&quot;bbox&quot;: [15.4444369, 47.0797869, 15.4444369, 47.0797869], &quot;geometry&quot;: {&quot;coordinates&quot;: [15.4444369, 47.0797869], &quot;type&quot;: &quot;Point&quot;}, &quot;id&quot;: &quot;19&quot;, &quot;properties&quot;: {&quot;id&quot;: 676, &quot;price&quot;: 1090, &quot;price_per_m2&quot;: 9.08333, &quot;room_count&quot;: 4}, &quot;type&quot;: &quot;Feature&quot;}, {&quot;bbox&quot;: [15.4469845, 47.0674386, 15.4469845, 47.0674386], &quot;geometry&quot;: {&quot;coordinates&quot;: [15.4469845, 47.0674386], &quot;type&quot;: &quot;Point&quot;}, &quot;id&quot;: &quot;20&quot;, &quot;properties&quot;: {&quot;id&quot;: 679, &quot;price&quot;: 1090, &quot;price_per_m2&quot;: 11.8478, &quot;room_count&quot;: 4}, &quot;type&quot;: &quot;Feature&quot;}, {&quot;bbox&quot;: [15.4202668, 47.0668082, 15.4202668, 47.0668082], &quot;geometry&quot;: {&quot;coordinates&quot;: [15.4202668, 47.0668082], &quot;type&quot;: &quot;Point&quot;}, &quot;id&quot;: &quot;21&quot;, &quot;properties&quot;: {&quot;id&quot;: 688, &quot;price&quot;: 996, &quot;price_per_m2&quot;: 8.73684, &quot;room_count&quot;: 4}, &quot;type&quot;: &quot;Feature&quot;}, {&quot;bbox&quot;: [15.4600484, 47.0904936, 15.4600484, 47.0904936], &quot;geometry&quot;: {&quot;coordinates&quot;: [15.4600484, 47.0904936], &quot;type&quot;: &quot;Point&quot;}, &quot;id&quot;: &quot;22&quot;, &quot;properties&quot;: {&quot;id&quot;: 747, &quot;price&quot;: 916, &quot;price_per_m2&quot;: 11.1707, &quot;room_count&quot;: 4}, &quot;type&quot;: &quot;Feature&quot;}, {&quot;bbox&quot;: [15.3903719, 47.0601704, 15.3903719, 47.0601704], &quot;geometry&quot;: {&quot;coordinates&quot;: [15.3903719, 47.0601704], &quot;type&quot;: &quot;Point&quot;}, &quot;id&quot;: &quot;23&quot;, &quot;properties&quot;: {&quot;id&quot;: 792, &quot;price&quot;: 1177, &quot;price_per_m2&quot;: 10.2348, &quot;room_count&quot;: 5}, &quot;type&quot;: &quot;Feature&quot;}, {&quot;bbox&quot;: [15.4310152, 47.0756557, 15.4310152, 47.0756557], &quot;geometry&quot;: {&quot;coordinates&quot;: [15.4310152, 47.0756557], &quot;type&quot;: &quot;Point&quot;}, &quot;id&quot;: &quot;24&quot;, &quot;properties&quot;: {&quot;id&quot;: 803, &quot;price&quot;: 1384, &quot;price_per_m2&quot;: 16.2824, &quot;room_count&quot;: 4}, &quot;type&quot;: &quot;Feature&quot;}, {&quot;bbox&quot;: [15.4275524, 47.0699418, 15.4275524, 47.0699418], &quot;geometry&quot;: {&quot;coordinates&quot;: [15.4275524, 47.0699418], &quot;type&quot;: &quot;Point&quot;}, &quot;id&quot;: &quot;25&quot;, &quot;properties&quot;: {&quot;id&quot;: 889, &quot;price&quot;: 966, &quot;price_per_m2&quot;: 10.8539, &quot;room_count&quot;: 4}, &quot;type&quot;: &quot;Feature&quot;}, {&quot;bbox&quot;: [15.4469845, 47.0674386, 15.4469845, 47.0674386], &quot;geometry&quot;: {&quot;coordinates&quot;: [15.4469845, 47.0674386], &quot;type&quot;: &quot;Point&quot;}, &quot;id&quot;: &quot;26&quot;, &quot;properties&quot;: {&quot;id&quot;: 1032, &quot;price&quot;: 0, &quot;price_per_m2&quot;: 0.0, &quot;room_count&quot;: 5}, &quot;type&quot;: &quot;Feature&quot;}, {&quot;bbox&quot;: [15.4323908, 47.0858232, 15.4323908, 47.0858232], &quot;geometry&quot;: {&quot;coordinates&quot;: [15.4323908, 47.0858232], &quot;type&quot;: &quot;Point&quot;}, &quot;id&quot;: &quot;27&quot;, &quot;properties&quot;: {&quot;id&quot;: 1041, &quot;price&quot;: 1413, &quot;price_per_m2&quot;: 13.0833, &quot;room_count&quot;: 4}, &quot;type&quot;: &quot;Feature&quot;}, {&quot;bbox&quot;: [15.4540931, 47.0734077, 15.4540931, 47.0734077], &quot;geometry&quot;: {&quot;coordinates&quot;: [15.4540931, 47.0734077], &quot;type&quot;: &quot;Point&quot;}, &quot;id&quot;: &quot;28&quot;, &quot;properties&quot;: {&quot;id&quot;: 1043, &quot;price&quot;: 1450, &quot;price_per_m2&quot;: 8.78788, &quot;room_count&quot;: 4}, &quot;type&quot;: &quot;Feature&quot;}, {&quot;bbox&quot;: [15.4469845, 47.0674386, 15.4469845, 47.0674386], &quot;geometry&quot;: {&quot;coordinates&quot;: [15.4469845, 47.0674386], &quot;type&quot;: &quot;Point&quot;}, &quot;id&quot;: &quot;29&quot;, &quot;properties&quot;: {&quot;id&quot;: 1057, &quot;price&quot;: 1098, &quot;price_per_m2&quot;: 10.98, &quot;room_count&quot;: 5}, &quot;type&quot;: &quot;Feature&quot;}, {&quot;bbox&quot;: [15.4469845, 47.0674386, 15.4469845, 47.0674386], &quot;geometry&quot;: {&quot;coordinates&quot;: [15.4469845, 47.0674386], &quot;type&quot;: &quot;Point&quot;}, &quot;id&quot;: &quot;30&quot;, &quot;properties&quot;: {&quot;id&quot;: 1114, &quot;price&quot;: 0, &quot;price_per_m2&quot;: 0.0, &quot;room_count&quot;: 5}, &quot;type&quot;: &quot;Feature&quot;}, {&quot;bbox&quot;: [15.4275524, 47.0699418, 15.4275524, 47.0699418], &quot;geometry&quot;: {&quot;coordinates&quot;: [15.4275524, 47.0699418], &quot;type&quot;: &quot;Point&quot;}, &quot;id&quot;: &quot;31&quot;, &quot;properties&quot;: {&quot;id&quot;: 1142, &quot;price&quot;: 998, &quot;price_per_m2&quot;: 8.04839, &quot;room_count&quot;: 4}, &quot;type&quot;: &quot;Feature&quot;}, {&quot;bbox&quot;: [15.4105013, 47.0747226, 15.4105013, 47.0747226], &quot;geometry&quot;: {&quot;coordinates&quot;: [15.4105013, 47.0747226], &quot;type&quot;: &quot;Point&quot;}, &quot;id&quot;: &quot;32&quot;, &quot;properties&quot;: {&quot;id&quot;: 1245, &quot;price&quot;: 1002, &quot;price_per_m2&quot;: 11.2584, &quot;room_count&quot;: 4}, &quot;type&quot;: &quot;Feature&quot;}, {&quot;bbox&quot;: [15.4105013, 47.0747226, 15.4105013, 47.0747226], &quot;geometry&quot;: {&quot;coordinates&quot;: [15.4105013, 47.0747226], &quot;type&quot;: &quot;Point&quot;}, &quot;id&quot;: &quot;33&quot;, &quot;properties&quot;: {&quot;id&quot;: 1248, &quot;price&quot;: 1002, &quot;price_per_m2&quot;: 11.3864, &quot;room_count&quot;: 4}, &quot;type&quot;: &quot;Feature&quot;}, {&quot;bbox&quot;: [15.4105013, 47.0747226, 15.4105013, 47.0747226], &quot;geometry&quot;: {&quot;coordinates&quot;: [15.4105013, 47.0747226], &quot;type&quot;: &quot;Point&quot;}, &quot;id&quot;: &quot;34&quot;, &quot;properties&quot;: {&quot;id&quot;: 1258, &quot;price&quot;: 1031, &quot;price_per_m2&quot;: 11.5843, &quot;room_count&quot;: 4}, &quot;type&quot;: &quot;Feature&quot;}, {&quot;bbox&quot;: [15.4399109, 47.0677598, 15.4399109, 47.0677598], &quot;geometry&quot;: {&quot;coordinates&quot;: [15.4399109, 47.0677598], &quot;type&quot;: &quot;Point&quot;}, &quot;id&quot;: &quot;35&quot;, &quot;properties&quot;: {&quot;id&quot;: 1280, &quot;price&quot;: 0, &quot;price_per_m2&quot;: 0.0, &quot;room_count&quot;: 4}, &quot;type&quot;: &quot;Feature&quot;}, {&quot;bbox&quot;: [15.4469845, 47.0674386, 15.4469845, 47.0674386], &quot;geometry&quot;: {&quot;coordinates&quot;: [15.4469845, 47.0674386], &quot;type&quot;: &quot;Point&quot;}, &quot;id&quot;: &quot;36&quot;, &quot;properties&quot;: {&quot;id&quot;: 1310, &quot;price&quot;: 1592, &quot;price_per_m2&quot;: 15.92, &quot;room_count&quot;: 4}, &quot;type&quot;: &quot;Feature&quot;}, {&quot;bbox&quot;: [15.4080511, 47.0466781, 15.4080511, 47.0466781], &quot;geometry&quot;: {&quot;coordinates&quot;: [15.4080511, 47.0466781], &quot;type&quot;: &quot;Point&quot;}, &quot;id&quot;: &quot;37&quot;, &quot;properties&quot;: {&quot;id&quot;: 1348, &quot;price&quot;: 998, &quot;price_per_m2&quot;: 12.961, &quot;room_count&quot;: 4}, &quot;type&quot;: &quot;Feature&quot;}, {&quot;bbox&quot;: [15.449771, 47.076035, 15.449771, 47.076035], &quot;geometry&quot;: {&quot;coordinates&quot;: [15.449771, 47.076035], &quot;type&quot;: &quot;Point&quot;}, &quot;id&quot;: &quot;38&quot;, &quot;properties&quot;: {&quot;id&quot;: 1378, &quot;price&quot;: 1396, &quot;price_per_m2&quot;: 12.4643, &quot;room_count&quot;: 4}, &quot;type&quot;: &quot;Feature&quot;}, {&quot;bbox&quot;: [15.444612172847684, 47.0717401, 15.444612172847684, 47.0717401], &quot;geometry&quot;: {&quot;coordinates&quot;: [15.444612172847684, 47.0717401], &quot;type&quot;: &quot;Point&quot;}, &quot;id&quot;: &quot;39&quot;, &quot;properties&quot;: {&quot;id&quot;: 1382, &quot;price&quot;: 995, &quot;price_per_m2&quot;: 9.47619, &quot;room_count&quot;: 4}, &quot;type&quot;: &quot;Feature&quot;}, {&quot;bbox&quot;: [15.4049458, 47.0680647, 15.4049458, 47.0680647], &quot;geometry&quot;: {&quot;coordinates&quot;: [15.4049458, 47.0680647], &quot;type&quot;: &quot;Point&quot;}, &quot;id&quot;: &quot;40&quot;, &quot;properties&quot;: {&quot;id&quot;: 1395, &quot;price&quot;: 1116, &quot;price_per_m2&quot;: 13.1294, &quot;room_count&quot;: 4}, &quot;type&quot;: &quot;Feature&quot;}, {&quot;bbox&quot;: [15.4049458, 47.0680647, 15.4049458, 47.0680647], &quot;geometry&quot;: {&quot;coordinates&quot;: [15.4049458, 47.0680647], &quot;type&quot;: &quot;Point&quot;}, &quot;id&quot;: &quot;41&quot;, &quot;properties&quot;: {&quot;id&quot;: 1396, &quot;price&quot;: 1098, &quot;price_per_m2&quot;: 13.0714, &quot;room_count&quot;: 4}, &quot;type&quot;: &quot;Feature&quot;}, {&quot;bbox&quot;: [15.4800905, 47.1016853, 15.4800905, 47.1016853], &quot;geometry&quot;: {&quot;coordinates&quot;: [15.4800905, 47.1016853], &quot;type&quot;: &quot;Point&quot;}, &quot;id&quot;: &quot;42&quot;, &quot;properties&quot;: {&quot;id&quot;: 1407, &quot;price&quot;: 1300, &quot;price_per_m2&quot;: 13.6842, &quot;room_count&quot;: 4}, &quot;type&quot;: &quot;Feature&quot;}, {&quot;bbox&quot;: [15.4469845, 47.0674386, 15.4469845, 47.0674386], &quot;geometry&quot;: {&quot;coordinates&quot;: [15.4469845, 47.0674386], &quot;type&quot;: &quot;Point&quot;}, &quot;id&quot;: &quot;43&quot;, &quot;properties&quot;: {&quot;id&quot;: 1420, &quot;price&quot;: 850, &quot;price_per_m2&quot;: 10.625, &quot;room_count&quot;: 4}, &quot;type&quot;: &quot;Feature&quot;}, {&quot;bbox&quot;: [15.424462408071781, 47.0638323, 15.424462408071781, 47.0638323], &quot;geometry&quot;: {&quot;coordinates&quot;: [15.424462408071781, 47.0638323], &quot;type&quot;: &quot;Point&quot;}, &quot;id&quot;: &quot;44&quot;, &quot;properties&quot;: {&quot;id&quot;: 1461, &quot;price&quot;: 1090, &quot;price_per_m2&quot;: 13.4568, &quot;room_count&quot;: 4}, &quot;type&quot;: &quot;Feature&quot;}, {&quot;bbox&quot;: [15.4624801, 47.0750252, 15.4624801, 47.0750252], &quot;geometry&quot;: {&quot;coordinates&quot;: [15.4624801, 47.0750252], &quot;type&quot;: &quot;Point&quot;}, &quot;id&quot;: &quot;45&quot;, &quot;properties&quot;: {&quot;id&quot;: 1469, &quot;price&quot;: 899, &quot;price_per_m2&quot;: 11.3797, &quot;room_count&quot;: 4}, &quot;type&quot;: &quot;Feature&quot;}, {&quot;bbox&quot;: [15.4835839, 47.0699184, 15.4835839, 47.0699184], &quot;geometry&quot;: {&quot;coordinates&quot;: [15.4835839, 47.0699184], &quot;type&quot;: &quot;Point&quot;}, &quot;id&quot;: &quot;46&quot;, &quot;properties&quot;: {&quot;id&quot;: 1488, &quot;price&quot;: 1355, &quot;price_per_m2&quot;: 10.4231, &quot;room_count&quot;: 5}, &quot;type&quot;: &quot;Feature&quot;}, {&quot;bbox&quot;: [15.4275524, 47.0699418, 15.4275524, 47.0699418], &quot;geometry&quot;: {&quot;coordinates&quot;: [15.4275524, 47.0699418], &quot;type&quot;: &quot;Point&quot;}, &quot;id&quot;: &quot;47&quot;, &quot;properties&quot;: {&quot;id&quot;: 1493, &quot;price&quot;: 1450, &quot;price_per_m2&quot;: 14.5, &quot;room_count&quot;: 4}, &quot;type&quot;: &quot;Feature&quot;}, {&quot;bbox&quot;: [15.452422254774822, 47.07190885, 15.452422254774822, 47.07190885], &quot;geometry&quot;: {&quot;coordinates&quot;: [15.452422254774822, 47.07190885], &quot;type&quot;: &quot;Point&quot;}, &quot;id&quot;: &quot;48&quot;, &quot;properties&quot;: {&quot;id&quot;: 1494, &quot;price&quot;: 1070, &quot;price_per_m2&quot;: 13.375, &quot;room_count&quot;: 4}, &quot;type&quot;: &quot;Feature&quot;}, {&quot;bbox&quot;: [15.436530019185554, 47.067884649999996, 15.436530019185554, 47.067884649999996], &quot;geometry&quot;: {&quot;coordinates&quot;: [15.436530019185554, 47.067884649999996], &quot;type&quot;: &quot;Point&quot;}, &quot;id&quot;: &quot;49&quot;, &quot;properties&quot;: {&quot;id&quot;: 1536, &quot;price&quot;: 0, &quot;price_per_m2&quot;: 0.0, &quot;room_count&quot;: 4}, &quot;type&quot;: &quot;Feature&quot;}, {&quot;bbox&quot;: [15.4524184, 47.0697512, 15.4524184, 47.0697512], &quot;geometry&quot;: {&quot;coordinates&quot;: [15.4524184, 47.0697512], &quot;type&quot;: &quot;Point&quot;}, &quot;id&quot;: &quot;50&quot;, &quot;properties&quot;: {&quot;id&quot;: 1558, &quot;price&quot;: 0, &quot;price_per_m2&quot;: 0.0, &quot;room_count&quot;: 4}, &quot;type&quot;: &quot;Feature&quot;}, {&quot;bbox&quot;: [15.4699851, 47.0587015, 15.4699851, 47.0587015], &quot;geometry&quot;: {&quot;coordinates&quot;: [15.4699851, 47.0587015], &quot;type&quot;: &quot;Point&quot;}, &quot;id&quot;: &quot;51&quot;, &quot;properties&quot;: {&quot;id&quot;: 1574, &quot;price&quot;: 1350, &quot;price_per_m2&quot;: 10.8, &quot;room_count&quot;: 4}, &quot;type&quot;: &quot;Feature&quot;}, {&quot;bbox&quot;: [15.4585302, 47.0840261, 15.4585302, 47.0840261], &quot;geometry&quot;: {&quot;coordinates&quot;: [15.4585302, 47.0840261], &quot;type&quot;: &quot;Point&quot;}, &quot;id&quot;: &quot;52&quot;, &quot;properties&quot;: {&quot;id&quot;: 1603, &quot;price&quot;: 1395, &quot;price_per_m2&quot;: 12.4554, &quot;room_count&quot;: 4}, &quot;type&quot;: &quot;Feature&quot;}, {&quot;bbox&quot;: [15.497767888460057, 47.116777684123235, 15.497767888460057, 47.116777684123235], &quot;geometry&quot;: {&quot;coordinates&quot;: [15.497767888460057, 47.116777684123235], &quot;type&quot;: &quot;Point&quot;}, &quot;id&quot;: &quot;53&quot;, &quot;properties&quot;: {&quot;id&quot;: 1699, &quot;price&quot;: 1004, &quot;price_per_m2&quot;: 10.04, &quot;room_count&quot;: 4}, &quot;type&quot;: &quot;Feature&quot;}, {&quot;bbox&quot;: [15.4517888, 47.0692962, 15.4517888, 47.0692962], &quot;geometry&quot;: {&quot;coordinates&quot;: [15.4517888, 47.0692962], &quot;type&quot;: &quot;Point&quot;}, &quot;id&quot;: &quot;54&quot;, &quot;properties&quot;: {&quot;id&quot;: 1709, &quot;price&quot;: 0, &quot;price_per_m2&quot;: 0.0, &quot;room_count&quot;: 4}, &quot;type&quot;: &quot;Feature&quot;}, {&quot;bbox&quot;: [15.4469845, 47.0674386, 15.4469845, 47.0674386], &quot;geometry&quot;: {&quot;coordinates&quot;: [15.4469845, 47.0674386], &quot;type&quot;: &quot;Point&quot;}, &quot;id&quot;: &quot;55&quot;, &quot;properties&quot;: {&quot;id&quot;: 1728, &quot;price&quot;: 0, &quot;price_per_m2&quot;: 0.0, &quot;room_count&quot;: 4}, &quot;type&quot;: &quot;Feature&quot;}, {&quot;bbox&quot;: [15.4495724, 47.0714561, 15.4495724, 47.0714561], &quot;geometry&quot;: {&quot;coordinates&quot;: [15.4495724, 47.0714561], &quot;type&quot;: &quot;Point&quot;}, &quot;id&quot;: &quot;56&quot;, &quot;properties&quot;: {&quot;id&quot;: 1762, &quot;price&quot;: 1132, &quot;price_per_m2&quot;: 12.7191, &quot;room_count&quot;: 4}, &quot;type&quot;: &quot;Feature&quot;}, {&quot;bbox&quot;: [15.4469845, 47.0674386, 15.4469845, 47.0674386], &quot;geometry&quot;: {&quot;coordinates&quot;: [15.4469845, 47.0674386], &quot;type&quot;: &quot;Point&quot;}, &quot;id&quot;: &quot;57&quot;, &quot;properties&quot;: {&quot;id&quot;: 1785, &quot;price&quot;: 0, &quot;price_per_m2&quot;: 0.0, &quot;room_count&quot;: 5}, &quot;type&quot;: &quot;Feature&quot;}, {&quot;bbox&quot;: [15.504175, 47.0748877, 15.504175, 47.0748877], &quot;geometry&quot;: {&quot;coordinates&quot;: [15.504175, 47.0748877], &quot;type&quot;: &quot;Point&quot;}, &quot;id&quot;: &quot;58&quot;, &quot;properties&quot;: {&quot;id&quot;: 1816, &quot;price&quot;: 1200, &quot;price_per_m2&quot;: 9.6, &quot;room_count&quot;: 4}, &quot;type&quot;: &quot;Feature&quot;}, {&quot;bbox&quot;: [15.462763299999999, 47.08026305, 15.462763299999999, 47.08026305], &quot;geometry&quot;: {&quot;coordinates&quot;: [15.462763299999999, 47.08026305], &quot;type&quot;: &quot;Point&quot;}, &quot;id&quot;: &quot;59&quot;, &quot;properties&quot;: {&quot;id&quot;: 1842, &quot;price&quot;: 0, &quot;price_per_m2&quot;: 0.0, &quot;room_count&quot;: 4}, &quot;type&quot;: &quot;Feature&quot;}, {&quot;bbox&quot;: [15.4469845, 47.0674386, 15.4469845, 47.0674386], &quot;geometry&quot;: {&quot;coordinates&quot;: [15.4469845, 47.0674386], &quot;type&quot;: &quot;Point&quot;}, &quot;id&quot;: &quot;60&quot;, &quot;properties&quot;: {&quot;id&quot;: 1847, &quot;price&quot;: 1362, &quot;price_per_m2&quot;: 11.641, &quot;room_count&quot;: 4}, &quot;type&quot;: &quot;Feature&quot;}, {&quot;bbox&quot;: [15.4444369, 47.0797869, 15.4444369, 47.0797869], &quot;geometry&quot;: {&quot;coordinates&quot;: [15.4444369, 47.0797869], &quot;type&quot;: &quot;Point&quot;}, &quot;id&quot;: &quot;61&quot;, &quot;properties&quot;: {&quot;id&quot;: 1857, &quot;price&quot;: 1090, &quot;price_per_m2&quot;: 9.08333, &quot;room_count&quot;: 4}, &quot;type&quot;: &quot;Feature&quot;}, {&quot;bbox&quot;: [15.4420605, 47.0685577, 15.4420605, 47.0685577], &quot;geometry&quot;: {&quot;coordinates&quot;: [15.4420605, 47.0685577], &quot;type&quot;: &quot;Point&quot;}, &quot;id&quot;: &quot;62&quot;, &quot;properties&quot;: {&quot;id&quot;: 1880, &quot;price&quot;: 1345, &quot;price_per_m2&quot;: 14.7802, &quot;room_count&quot;: 4}, &quot;type&quot;: &quot;Feature&quot;}, {&quot;bbox&quot;: [15.488907628540073, 47.10620125, 15.488907628540073, 47.10620125], &quot;geometry&quot;: {&quot;coordinates&quot;: [15.488907628540073, 47.10620125], &quot;type&quot;: &quot;Point&quot;}, &quot;id&quot;: &quot;63&quot;, &quot;properties&quot;: {&quot;id&quot;: 1927, &quot;price&quot;: 0, &quot;price_per_m2&quot;: 0.0, &quot;room_count&quot;: 4}, &quot;type&quot;: &quot;Feature&quot;}, {&quot;bbox&quot;: [15.4469845, 47.0674386, 15.4469845, 47.0674386], &quot;geometry&quot;: {&quot;coordinates&quot;: [15.4469845, 47.0674386], &quot;type&quot;: &quot;Point&quot;}, &quot;id&quot;: &quot;64&quot;, &quot;properties&quot;: {&quot;id&quot;: 1933, &quot;price&quot;: 950, &quot;price_per_m2&quot;: 10.3261, &quot;room_count&quot;: 4}, &quot;type&quot;: &quot;Feature&quot;}, {&quot;bbox&quot;: [15.4469845, 47.0674386, 15.4469845, 47.0674386], &quot;geometry&quot;: {&quot;coordinates&quot;: [15.4469845, 47.0674386], &quot;type&quot;: &quot;Point&quot;}, &quot;id&quot;: &quot;65&quot;, &quot;properties&quot;: {&quot;id&quot;: 1938, &quot;price&quot;: 1391, &quot;price_per_m2&quot;: 11.2177, &quot;room_count&quot;: 4}, &quot;type&quot;: &quot;Feature&quot;}, {&quot;bbox&quot;: [15.460224565555302, 47.09604757723514, 15.460224565555302, 47.09604757723514], &quot;geometry&quot;: {&quot;coordinates&quot;: [15.460224565555302, 47.09604757723514], &quot;type&quot;: &quot;Point&quot;}, &quot;id&quot;: &quot;66&quot;, &quot;properties&quot;: {&quot;id&quot;: 1944, &quot;price&quot;: 0, &quot;price_per_m2&quot;: 0.0, &quot;room_count&quot;: 4}, &quot;type&quot;: &quot;Feature&quot;}, {&quot;bbox&quot;: [15.4076251, 47.0900249, 15.4076251, 47.0900249], &quot;geometry&quot;: {&quot;coordinates&quot;: [15.4076251, 47.0900249], &quot;type&quot;: &quot;Point&quot;}, &quot;id&quot;: &quot;67&quot;, &quot;properties&quot;: {&quot;id&quot;: 1955, &quot;price&quot;: 1186, &quot;price_per_m2&quot;: 10.5893, &quot;room_count&quot;: 4}, &quot;type&quot;: &quot;Feature&quot;}, {&quot;bbox&quot;: [15.4835839, 47.0699184, 15.4835839, 47.0699184], &quot;geometry&quot;: {&quot;coordinates&quot;: [15.4835839, 47.0699184], &quot;type&quot;: &quot;Point&quot;}, &quot;id&quot;: &quot;68&quot;, &quot;properties&quot;: {&quot;id&quot;: 1965, &quot;price&quot;: 1390, &quot;price_per_m2&quot;: 10.6923, &quot;room_count&quot;: 5}, &quot;type&quot;: &quot;Feature&quot;}, {&quot;bbox&quot;: [15.4469845, 47.0674386, 15.4469845, 47.0674386], &quot;geometry&quot;: {&quot;coordinates&quot;: [15.4469845, 47.0674386], &quot;type&quot;: &quot;Point&quot;}, &quot;id&quot;: &quot;69&quot;, &quot;properties&quot;: {&quot;id&quot;: 2013, &quot;price&quot;: 1050, &quot;price_per_m2&quot;: 10.0, &quot;room_count&quot;: 4}, &quot;type&quot;: &quot;Feature&quot;}, {&quot;bbox&quot;: [15.4581415, 47.0753141, 15.4581415, 47.0753141], &quot;geometry&quot;: {&quot;coordinates&quot;: [15.4581415, 47.0753141], &quot;type&quot;: &quot;Point&quot;}, &quot;id&quot;: &quot;70&quot;, &quot;properties&quot;: {&quot;id&quot;: 2030, &quot;price&quot;: 1122, &quot;price_per_m2&quot;: 12.75, &quot;room_count&quot;: 4}, &quot;type&quot;: &quot;Feature&quot;}, {&quot;bbox&quot;: [15.454568660018737, 47.07290435, 15.454568660018737, 47.07290435], &quot;geometry&quot;: {&quot;coordinates&quot;: [15.454568660018737, 47.07290435], &quot;type&quot;: &quot;Point&quot;}, &quot;id&quot;: &quot;71&quot;, &quot;properties&quot;: {&quot;id&quot;: 2085, &quot;price&quot;: 1079, &quot;price_per_m2&quot;: 10.899, &quot;room_count&quot;: 4}, &quot;type&quot;: &quot;Feature&quot;}, {&quot;bbox&quot;: [15.4301986, 47.0637145, 15.4301986, 47.0637145], &quot;geometry&quot;: {&quot;coordinates&quot;: [15.4301986, 47.0637145], &quot;type&quot;: &quot;Point&quot;}, &quot;id&quot;: &quot;72&quot;, &quot;properties&quot;: {&quot;id&quot;: 2089, &quot;price&quot;: 920, &quot;price_per_m2&quot;: 8.93204, &quot;room_count&quot;: 4}, &quot;type&quot;: &quot;Feature&quot;}, {&quot;bbox&quot;: [15.4469845, 47.0674386, 15.4469845, 47.0674386], &quot;geometry&quot;: {&quot;coordinates&quot;: [15.4469845, 47.0674386], &quot;type&quot;: &quot;Point&quot;}, &quot;id&quot;: &quot;73&quot;, &quot;properties&quot;: {&quot;id&quot;: 2112, &quot;price&quot;: 0, &quot;price_per_m2&quot;: 0.0, &quot;room_count&quot;: 4}, &quot;type&quot;: &quot;Feature&quot;}, {&quot;bbox&quot;: [15.4270381, 47.0689718, 15.4270381, 47.0689718], &quot;geometry&quot;: {&quot;coordinates&quot;: [15.4270381, 47.0689718], &quot;type&quot;: &quot;Point&quot;}, &quot;id&quot;: &quot;74&quot;, &quot;properties&quot;: {&quot;id&quot;: 2113, &quot;price&quot;: 1250, &quot;price_per_m2&quot;: 10.4167, &quot;room_count&quot;: 4}, &quot;type&quot;: &quot;Feature&quot;}, {&quot;bbox&quot;: [15.4337536, 47.0324741, 15.4337536, 47.0324741], &quot;geometry&quot;: {&quot;coordinates&quot;: [15.4337536, 47.0324741], &quot;type&quot;: &quot;Point&quot;}, &quot;id&quot;: &quot;75&quot;, &quot;properties&quot;: {&quot;id&quot;: 2130, &quot;price&quot;: 1330, &quot;price_per_m2&quot;: 14.3011, &quot;room_count&quot;: 4}, &quot;type&quot;: &quot;Feature&quot;}, {&quot;bbox&quot;: [15.413099148969945, 47.08607295, 15.413099148969945, 47.08607295], &quot;geometry&quot;: {&quot;coordinates&quot;: [15.413099148969945, 47.08607295], &quot;type&quot;: &quot;Point&quot;}, &quot;id&quot;: &quot;76&quot;, &quot;properties&quot;: {&quot;id&quot;: 2148, &quot;price&quot;: 875, &quot;price_per_m2&quot;: 10.2941, &quot;room_count&quot;: 4}, &quot;type&quot;: &quot;Feature&quot;}, {&quot;bbox&quot;: [15.4469845, 47.0674386, 15.4469845, 47.0674386], &quot;geometry&quot;: {&quot;coordinates&quot;: [15.4469845, 47.0674386], &quot;type&quot;: &quot;Point&quot;}, &quot;id&quot;: &quot;77&quot;, &quot;properties&quot;: {&quot;id&quot;: 2163, &quot;price&quot;: 0, &quot;price_per_m2&quot;: 0.0, &quot;room_count&quot;: 4}, &quot;type&quot;: &quot;Feature&quot;}, {&quot;bbox&quot;: [15.4433375, 47.0780843, 15.4433375, 47.0780843], &quot;geometry&quot;: {&quot;coordinates&quot;: [15.4433375, 47.0780843], &quot;type&quot;: &quot;Point&quot;}, &quot;id&quot;: &quot;78&quot;, &quot;properties&quot;: {&quot;id&quot;: 2185, &quot;price&quot;: 850, &quot;price_per_m2&quot;: 9.88372, &quot;room_count&quot;: 4}, &quot;type&quot;: &quot;Feature&quot;}, {&quot;bbox&quot;: [15.4469845, 47.0674386, 15.4469845, 47.0674386], &quot;geometry&quot;: {&quot;coordinates&quot;: [15.4469845, 47.0674386], &quot;type&quot;: &quot;Point&quot;}, &quot;id&quot;: &quot;79&quot;, &quot;properties&quot;: {&quot;id&quot;: 2210, &quot;price&quot;: 1240, &quot;price_per_m2&quot;: 12.6531, &quot;room_count&quot;: 4}, &quot;type&quot;: &quot;Feature&quot;}, {&quot;bbox&quot;: [15.482861638704156, 47.055014367479565, 15.482861638704156, 47.055014367479565], &quot;geometry&quot;: {&quot;coordinates&quot;: [15.482861638704156, 47.055014367479565], &quot;type&quot;: &quot;Point&quot;}, &quot;id&quot;: &quot;80&quot;, &quot;properties&quot;: {&quot;id&quot;: 2254, &quot;price&quot;: 0, &quot;price_per_m2&quot;: 0.0, &quot;room_count&quot;: 5}, &quot;type&quot;: &quot;Feature&quot;}, {&quot;bbox&quot;: [15.38679098391172, 47.09321588466084, 15.38679098391172, 47.09321588466084], &quot;geometry&quot;: {&quot;coordinates&quot;: [15.38679098391172, 47.09321588466084], &quot;type&quot;: &quot;Point&quot;}, &quot;id&quot;: &quot;81&quot;, &quot;properties&quot;: {&quot;id&quot;: 2318, &quot;price&quot;: 799, &quot;price_per_m2&quot;: 8.41053, &quot;room_count&quot;: 5}, &quot;type&quot;: &quot;Feature&quot;}, {&quot;bbox&quot;: [15.44935095, 47.0747726, 15.44935095, 47.0747726], &quot;geometry&quot;: {&quot;coordinates&quot;: [15.44935095, 47.0747726], &quot;type&quot;: &quot;Point&quot;}, &quot;id&quot;: &quot;82&quot;, &quot;properties&quot;: {&quot;id&quot;: 2325, &quot;price&quot;: 978, &quot;price_per_m2&quot;: 9.14019, &quot;room_count&quot;: 4}, &quot;type&quot;: &quot;Feature&quot;}, {&quot;bbox&quot;: [15.4366668, 47.0874769, 15.4366668, 47.0874769], &quot;geometry&quot;: {&quot;coordinates&quot;: [15.4366668, 47.0874769], &quot;type&quot;: &quot;Point&quot;}, &quot;id&quot;: &quot;83&quot;, &quot;properties&quot;: {&quot;id&quot;: 2348, &quot;price&quot;: 1450, &quot;price_per_m2&quot;: 9.66667, &quot;room_count&quot;: 5}, &quot;type&quot;: &quot;Feature&quot;}, {&quot;bbox&quot;: [15.4170399, 47.0854654, 15.4170399, 47.0854654], &quot;geometry&quot;: {&quot;coordinates&quot;: [15.4170399, 47.0854654], &quot;type&quot;: &quot;Point&quot;}, &quot;id&quot;: &quot;84&quot;, &quot;properties&quot;: {&quot;id&quot;: 2359, &quot;price&quot;: 0, &quot;price_per_m2&quot;: 0.0, &quot;room_count&quot;: 4}, &quot;type&quot;: &quot;Feature&quot;}, {&quot;bbox&quot;: [15.4473686, 47.0767523, 15.4473686, 47.0767523], &quot;geometry&quot;: {&quot;coordinates&quot;: [15.4473686, 47.0767523], &quot;type&quot;: &quot;Point&quot;}, &quot;id&quot;: &quot;85&quot;, &quot;properties&quot;: {&quot;id&quot;: 2383, &quot;price&quot;: 1150, &quot;price_per_m2&quot;: 10.4545, &quot;room_count&quot;: 4}, &quot;type&quot;: &quot;Feature&quot;}, {&quot;bbox&quot;: [15.4469845, 47.0674386, 15.4469845, 47.0674386], &quot;geometry&quot;: {&quot;coordinates&quot;: [15.4469845, 47.0674386], &quot;type&quot;: &quot;Point&quot;}, &quot;id&quot;: &quot;86&quot;, &quot;properties&quot;: {&quot;id&quot;: 2415, &quot;price&quot;: 1085, &quot;price_per_m2&quot;: 11.6667, &quot;room_count&quot;: 4}, &quot;type&quot;: &quot;Feature&quot;}, {&quot;bbox&quot;: [15.454184623946762, 47.07242676476627, 15.454184623946762, 47.07242676476627], &quot;geometry&quot;: {&quot;coordinates&quot;: [15.454184623946762, 47.07242676476627], &quot;type&quot;: &quot;Point&quot;}, &quot;id&quot;: &quot;87&quot;, &quot;properties&quot;: {&quot;id&quot;: 2429, &quot;price&quot;: 995, &quot;price_per_m2&quot;: 11.7059, &quot;room_count&quot;: 4}, &quot;type&quot;: &quot;Feature&quot;}, {&quot;bbox&quot;: [15.454184623946762, 47.07242676476627, 15.454184623946762, 47.07242676476627], &quot;geometry&quot;: {&quot;coordinates&quot;: [15.454184623946762, 47.07242676476627], &quot;type&quot;: &quot;Point&quot;}, &quot;id&quot;: &quot;88&quot;, &quot;properties&quot;: {&quot;id&quot;: 2441, &quot;price&quot;: 1200, &quot;price_per_m2&quot;: 12.6316, &quot;room_count&quot;: 4}, &quot;type&quot;: &quot;Feature&quot;}, {&quot;bbox&quot;: [15.4493516, 47.0770544, 15.4493516, 47.0770544], &quot;geometry&quot;: {&quot;coordinates&quot;: [15.4493516, 47.0770544], &quot;type&quot;: &quot;Point&quot;}, &quot;id&quot;: &quot;89&quot;, &quot;properties&quot;: {&quot;id&quot;: 2447, &quot;price&quot;: 1500, &quot;price_per_m2&quot;: 10.3448, &quot;room_count&quot;: 4}, &quot;type&quot;: &quot;Feature&quot;}, {&quot;bbox&quot;: [15.4832606, 47.0503793, 15.4832606, 47.0503793], &quot;geometry&quot;: {&quot;coordinates&quot;: [15.4832606, 47.0503793], &quot;type&quot;: &quot;Point&quot;}, &quot;id&quot;: &quot;90&quot;, &quot;properties&quot;: {&quot;id&quot;: 2449, &quot;price&quot;: 1529, &quot;price_per_m2&quot;: 12.3306, &quot;room_count&quot;: 4}, &quot;type&quot;: &quot;Feature&quot;}, {&quot;bbox&quot;: [15.4409561, 47.0635415, 15.4409561, 47.0635415], &quot;geometry&quot;: {&quot;coordinates&quot;: [15.4409561, 47.0635415], &quot;type&quot;: &quot;Point&quot;}, &quot;id&quot;: &quot;91&quot;, &quot;properties&quot;: {&quot;id&quot;: 2494, &quot;price&quot;: 1450, &quot;price_per_m2&quot;: 14.2157, &quot;room_count&quot;: 4}, &quot;type&quot;: &quot;Feature&quot;}, {&quot;bbox&quot;: [15.402983195550156, 47.0640734, 15.402983195550156, 47.0640734], &quot;geometry&quot;: {&quot;coordinates&quot;: [15.402983195550156, 47.0640734], &quot;type&quot;: &quot;Point&quot;}, &quot;id&quot;: &quot;92&quot;, &quot;properties&quot;: {&quot;id&quot;: 2508, &quot;price&quot;: 999, &quot;price_per_m2&quot;: 10.4062, &quot;room_count&quot;: 4}, &quot;type&quot;: &quot;Feature&quot;}, {&quot;bbox&quot;: [15.5026147, 47.1128971, 15.5026147, 47.1128971], &quot;geometry&quot;: {&quot;coordinates&quot;: [15.5026147, 47.1128971], &quot;type&quot;: &quot;Point&quot;}, &quot;id&quot;: &quot;93&quot;, &quot;properties&quot;: {&quot;id&quot;: 2516, &quot;price&quot;: 0, &quot;price_per_m2&quot;: 0.0, &quot;room_count&quot;: 4}, &quot;type&quot;: &quot;Feature&quot;}, {&quot;bbox&quot;: [15.5006495, 47.089084, 15.5006495, 47.089084], &quot;geometry&quot;: {&quot;coordinates&quot;: [15.5006495, 47.089084], &quot;type&quot;: &quot;Point&quot;}, &quot;id&quot;: &quot;94&quot;, &quot;properties&quot;: {&quot;id&quot;: 2528, &quot;price&quot;: 790, &quot;price_per_m2&quot;: 9.40476, &quot;room_count&quot;: 4}, &quot;type&quot;: &quot;Feature&quot;}, {&quot;bbox&quot;: [15.4197892, 47.0696621, 15.4197892, 47.0696621], &quot;geometry&quot;: {&quot;coordinates&quot;: [15.4197892, 47.0696621], &quot;type&quot;: &quot;Point&quot;}, &quot;id&quot;: &quot;95&quot;, &quot;properties&quot;: {&quot;id&quot;: 2529, &quot;price&quot;: 1005, &quot;price_per_m2&quot;: 8.89381, &quot;room_count&quot;: 5}, &quot;type&quot;: &quot;Feature&quot;}, {&quot;bbox&quot;: [15.4538587, 47.0755357, 15.4538587, 47.0755357], &quot;geometry&quot;: {&quot;coordinates&quot;: [15.4538587, 47.0755357], &quot;type&quot;: &quot;Point&quot;}, &quot;id&quot;: &quot;96&quot;, &quot;properties&quot;: {&quot;id&quot;: 2550, &quot;price&quot;: 1051, &quot;price_per_m2&quot;: 9.13913, &quot;room_count&quot;: 4}, &quot;type&quot;: &quot;Feature&quot;}, {&quot;bbox&quot;: [15.454184623946762, 47.07242676476627, 15.454184623946762, 47.07242676476627], &quot;geometry&quot;: {&quot;coordinates&quot;: [15.454184623946762, 47.07242676476627], &quot;type&quot;: &quot;Point&quot;}, &quot;id&quot;: &quot;97&quot;, &quot;properties&quot;: {&quot;id&quot;: 2591, &quot;price&quot;: 1299, &quot;price_per_m2&quot;: 11.4956, &quot;room_count&quot;: 5}, &quot;type&quot;: &quot;Feature&quot;}, {&quot;bbox&quot;: [15.4224753, 47.0678725, 15.4224753, 47.0678725], &quot;geometry&quot;: {&quot;coordinates&quot;: [15.4224753, 47.0678725], &quot;type&quot;: &quot;Point&quot;}, &quot;id&quot;: &quot;98&quot;, &quot;properties&quot;: {&quot;id&quot;: 2609, &quot;price&quot;: 1187, &quot;price_per_m2&quot;: 11.6373, &quot;room_count&quot;: 4}, &quot;type&quot;: &quot;Feature&quot;}, {&quot;bbox&quot;: [15.420629100000001, 47.115780400000006, 15.420629100000001, 47.115780400000006], &quot;geometry&quot;: {&quot;coordinates&quot;: [15.420629100000001, 47.115780400000006], &quot;type&quot;: &quot;Point&quot;}, &quot;id&quot;: &quot;99&quot;, &quot;properties&quot;: {&quot;id&quot;: 2647, &quot;price&quot;: 0, &quot;price_per_m2&quot;: 0.0, &quot;room_count&quot;: 5}, &quot;type&quot;: &quot;Feature&quot;}, {&quot;bbox&quot;: [15.482861638704156, 47.055014367479565, 15.482861638704156, 47.055014367479565], &quot;geometry&quot;: {&quot;coordinates&quot;: [15.482861638704156, 47.055014367479565], &quot;type&quot;: &quot;Point&quot;}, &quot;id&quot;: &quot;100&quot;, &quot;properties&quot;: {&quot;id&quot;: 2649, &quot;price&quot;: 1395, &quot;price_per_m2&quot;: 13.5437, &quot;room_count&quot;: 4}, &quot;type&quot;: &quot;Feature&quot;}, {&quot;bbox&quot;: [15.455187982666857, 47.06664155, 15.455187982666857, 47.06664155], &quot;geometry&quot;: {&quot;coordinates&quot;: [15.455187982666857, 47.06664155], &quot;type&quot;: &quot;Point&quot;}, &quot;id&quot;: &quot;101&quot;, &quot;properties&quot;: {&quot;id&quot;: 2727, &quot;price&quot;: 1300, &quot;price_per_m2&quot;: 11.7117, &quot;room_count&quot;: 4}, &quot;type&quot;: &quot;Feature&quot;}, {&quot;bbox&quot;: [15.4394751, 47.0646054, 15.4394751, 47.0646054], &quot;geometry&quot;: {&quot;coordinates&quot;: [15.4394751, 47.0646054], &quot;type&quot;: &quot;Point&quot;}, &quot;id&quot;: &quot;102&quot;, &quot;properties&quot;: {&quot;id&quot;: 2755, &quot;price&quot;: 0, &quot;price_per_m2&quot;: 0.0, &quot;room_count&quot;: 4}, &quot;type&quot;: &quot;Feature&quot;}, {&quot;bbox&quot;: [15.4275524, 47.0699418, 15.4275524, 47.0699418], &quot;geometry&quot;: {&quot;coordinates&quot;: [15.4275524, 47.0699418], &quot;type&quot;: &quot;Point&quot;}, &quot;id&quot;: &quot;103&quot;, &quot;properties&quot;: {&quot;id&quot;: 2757, &quot;price&quot;: 752, &quot;price_per_m2&quot;: 6.42735, &quot;room_count&quot;: 4}, &quot;type&quot;: &quot;Feature&quot;}, {&quot;bbox&quot;: [15.4490865, 47.0798646, 15.4490865, 47.0798646], &quot;geometry&quot;: {&quot;coordinates&quot;: [15.4490865, 47.0798646], &quot;type&quot;: &quot;Point&quot;}, &quot;id&quot;: &quot;104&quot;, &quot;properties&quot;: {&quot;id&quot;: 2781, &quot;price&quot;: 1158, &quot;price_per_m2&quot;: 10.2478, &quot;room_count&quot;: 4}, &quot;type&quot;: &quot;Feature&quot;}, {&quot;bbox&quot;: [15.4583883, 47.0774652, 15.4583883, 47.0774652], &quot;geometry&quot;: {&quot;coordinates&quot;: [15.4583883, 47.0774652], &quot;type&quot;: &quot;Point&quot;}, &quot;id&quot;: &quot;105&quot;, &quot;properties&quot;: {&quot;id&quot;: 2834, &quot;price&quot;: 1206, &quot;price_per_m2&quot;: 10.3077, &quot;room_count&quot;: 4}, &quot;type&quot;: &quot;Feature&quot;}, {&quot;bbox&quot;: [15.4469845, 47.0674386, 15.4469845, 47.0674386], &quot;geometry&quot;: {&quot;coordinates&quot;: [15.4469845, 47.0674386], &quot;type&quot;: &quot;Point&quot;}, &quot;id&quot;: &quot;106&quot;, &quot;properties&quot;: {&quot;id&quot;: 2849, &quot;price&quot;: 1081, &quot;price_per_m2&quot;: 13.6835, &quot;room_count&quot;: 4}, &quot;type&quot;: &quot;Feature&quot;}, {&quot;bbox&quot;: [15.4282488, 47.0859979, 15.4282488, 47.0859979], &quot;geometry&quot;: {&quot;coordinates&quot;: [15.4282488, 47.0859979], &quot;type&quot;: &quot;Point&quot;}, &quot;id&quot;: &quot;107&quot;, &quot;properties&quot;: {&quot;id&quot;: 2853, &quot;price&quot;: 1116, &quot;price_per_m2&quot;: 12.1304, &quot;room_count&quot;: 4}, &quot;type&quot;: &quot;Feature&quot;}], &quot;type&quot;: &quot;FeatureCollection&quot;});\n",
       "\n",
       "        \n",
       "    \n",
       "    geo_json_142a911769866069514e1c0580a7d684.bindTooltip(\n",
       "    function(layer){\n",
       "    let div = L.DomUtil.create(&#x27;div&#x27;);\n",
       "    \n",
       "    let handleObject = feature=&gt;typeof(feature)==&#x27;object&#x27; ? JSON.stringify(feature) : feature;\n",
       "    let fields = [&quot;id&quot;, &quot;price&quot;, &quot;room_count&quot;, &quot;price_per_m2&quot;];\n",
       "    let aliases = [&quot;id&quot;, &quot;price&quot;, &quot;room_count&quot;, &quot;price_per_m2&quot;];\n",
       "    let table = &#x27;&lt;table&gt;&#x27; +\n",
       "        String(\n",
       "        fields.map(\n",
       "        (v,i)=&gt;\n",
       "        `&lt;tr&gt;\n",
       "            &lt;th&gt;${aliases[i]}&lt;/th&gt;\n",
       "            \n",
       "            &lt;td&gt;${handleObject(layer.feature.properties[v])}&lt;/td&gt;\n",
       "        &lt;/tr&gt;`).join(&#x27;&#x27;))\n",
       "    +&#x27;&lt;/table&gt;&#x27;;\n",
       "    div.innerHTML=table;\n",
       "    \n",
       "    return div\n",
       "    }\n",
       "    ,{&quot;className&quot;: &quot;foliumtooltip&quot;, &quot;sticky&quot;: true});\n",
       "                     \n",
       "&lt;/script&gt;\" style=\"position:absolute;width:100%;height:100%;left:0;top:0;border:none !important;\" allowfullscreen webkitallowfullscreen mozallowfullscreen></iframe></div></div>"
      ],
      "text/plain": [
       "<folium.folium.Map at 0x7f5fa497afe0>"
      ]
     },
     "execution_count": 145,
     "metadata": {},
     "output_type": "execute_result"
    }
   ],
   "source": [
    "gdf[[\"price\", \"room_count\", \"price_per_m2\", \"geometry\"]][~gdf.is_empty].explore()"
   ]
  },
  {
   "cell_type": "markdown",
   "id": "2ba92dd3-7f9b-40c8-8073-df86e49eb712",
   "metadata": {},
   "source": [
    "## Graz Information"
   ]
  },
  {
   "cell_type": "code",
   "execution_count": 22,
   "id": "a6896dfe",
   "metadata": {},
   "outputs": [],
   "source": [
    "import geopandas as gpd"
   ]
  },
  {
   "cell_type": "code",
   "execution_count": 31,
   "id": "f5e33b97",
   "metadata": {},
   "outputs": [
    {
     "ename": "ValueError",
     "evalue": "Null layer: ''",
     "output_type": "error",
     "traceback": [
      "\u001b[0;31m---------------------------------------------------------------------------\u001b[0m",
      "\u001b[0;31mValueError\u001b[0m                                Traceback (most recent call last)",
      "Input \u001b[0;32mIn [31]\u001b[0m, in \u001b[0;36m<cell line: 1>\u001b[0;34m()\u001b[0m\n\u001b[0;32m----> 1\u001b[0m gdf \u001b[38;5;241m=\u001b[39m \u001b[43mgpd\u001b[49m\u001b[38;5;241;43m.\u001b[39;49m\u001b[43mread_file\u001b[49m\u001b[43m(\u001b[49m\u001b[38;5;124;43m\"\u001b[39;49m\u001b[38;5;124;43mgraz.kml\u001b[39;49m\u001b[38;5;124;43m\"\u001b[39;49m\u001b[43m)\u001b[49m\n",
      "File \u001b[0;32m~/.virtualenvs/willhaben/lib/python3.9/site-packages/geopandas/io/file.py:201\u001b[0m, in \u001b[0;36m_read_file\u001b[0;34m(filename, bbox, mask, rows, **kwargs)\u001b[0m\n\u001b[1;32m    198\u001b[0m     reader \u001b[38;5;241m=\u001b[39m fiona\u001b[38;5;241m.\u001b[39mopen\n\u001b[1;32m    200\u001b[0m \u001b[38;5;28;01mwith\u001b[39;00m fiona_env():\n\u001b[0;32m--> 201\u001b[0m     \u001b[38;5;28;01mwith\u001b[39;00m \u001b[43mreader\u001b[49m\u001b[43m(\u001b[49m\u001b[43mpath_or_bytes\u001b[49m\u001b[43m,\u001b[49m\u001b[43m \u001b[49m\u001b[38;5;241;43m*\u001b[39;49m\u001b[38;5;241;43m*\u001b[39;49m\u001b[43mkwargs\u001b[49m\u001b[43m)\u001b[49m \u001b[38;5;28;01mas\u001b[39;00m features:\n\u001b[1;32m    202\u001b[0m \n\u001b[1;32m    203\u001b[0m         \u001b[38;5;66;03m# In a future Fiona release the crs attribute of features will\u001b[39;00m\n\u001b[1;32m    204\u001b[0m         \u001b[38;5;66;03m# no longer be a dict, but will behave like a dict. So this should\u001b[39;00m\n\u001b[1;32m    205\u001b[0m         \u001b[38;5;66;03m# be forwards compatible\u001b[39;00m\n\u001b[1;32m    206\u001b[0m         crs \u001b[38;5;241m=\u001b[39m (\n\u001b[1;32m    207\u001b[0m             features\u001b[38;5;241m.\u001b[39mcrs[\u001b[38;5;124m\"\u001b[39m\u001b[38;5;124minit\u001b[39m\u001b[38;5;124m\"\u001b[39m]\n\u001b[1;32m    208\u001b[0m             \u001b[38;5;28;01mif\u001b[39;00m features\u001b[38;5;241m.\u001b[39mcrs \u001b[38;5;129;01mand\u001b[39;00m \u001b[38;5;124m\"\u001b[39m\u001b[38;5;124minit\u001b[39m\u001b[38;5;124m\"\u001b[39m \u001b[38;5;129;01min\u001b[39;00m features\u001b[38;5;241m.\u001b[39mcrs\n\u001b[1;32m    209\u001b[0m             \u001b[38;5;28;01melse\u001b[39;00m features\u001b[38;5;241m.\u001b[39mcrs_wkt\n\u001b[1;32m    210\u001b[0m         )\n\u001b[1;32m    212\u001b[0m         \u001b[38;5;66;03m# handle loading the bounding box\u001b[39;00m\n",
      "File \u001b[0;32m~/.virtualenvs/willhaben/lib/python3.9/site-packages/fiona/env.py:408\u001b[0m, in \u001b[0;36mensure_env_with_credentials.<locals>.wrapper\u001b[0;34m(*args, **kwargs)\u001b[0m\n\u001b[1;32m    405\u001b[0m \u001b[38;5;129m@wraps\u001b[39m(f)\n\u001b[1;32m    406\u001b[0m \u001b[38;5;28;01mdef\u001b[39;00m \u001b[38;5;21mwrapper\u001b[39m(\u001b[38;5;241m*\u001b[39margs, \u001b[38;5;241m*\u001b[39m\u001b[38;5;241m*\u001b[39mkwargs):\n\u001b[1;32m    407\u001b[0m     \u001b[38;5;28;01mif\u001b[39;00m local\u001b[38;5;241m.\u001b[39m_env:\n\u001b[0;32m--> 408\u001b[0m         \u001b[38;5;28;01mreturn\u001b[39;00m \u001b[43mf\u001b[49m\u001b[43m(\u001b[49m\u001b[38;5;241;43m*\u001b[39;49m\u001b[43margs\u001b[49m\u001b[43m,\u001b[49m\u001b[43m \u001b[49m\u001b[38;5;241;43m*\u001b[39;49m\u001b[38;5;241;43m*\u001b[39;49m\u001b[43mkwargs\u001b[49m\u001b[43m)\u001b[49m\n\u001b[1;32m    409\u001b[0m     \u001b[38;5;28;01melse\u001b[39;00m:\n\u001b[1;32m    410\u001b[0m         \u001b[38;5;28;01mif\u001b[39;00m \u001b[38;5;28misinstance\u001b[39m(args[\u001b[38;5;241m0\u001b[39m], \u001b[38;5;28mstr\u001b[39m):\n",
      "File \u001b[0;32m~/.virtualenvs/willhaben/lib/python3.9/site-packages/fiona/__init__.py:264\u001b[0m, in \u001b[0;36mopen\u001b[0;34m(fp, mode, driver, schema, crs, encoding, layer, vfs, enabled_drivers, crs_wkt, **kwargs)\u001b[0m\n\u001b[1;32m    261\u001b[0m     path \u001b[38;5;241m=\u001b[39m parse_path(fp)\n\u001b[1;32m    263\u001b[0m \u001b[38;5;28;01mif\u001b[39;00m mode \u001b[38;5;129;01min\u001b[39;00m (\u001b[38;5;124m'\u001b[39m\u001b[38;5;124ma\u001b[39m\u001b[38;5;124m'\u001b[39m, \u001b[38;5;124m'\u001b[39m\u001b[38;5;124mr\u001b[39m\u001b[38;5;124m'\u001b[39m):\n\u001b[0;32m--> 264\u001b[0m     c \u001b[38;5;241m=\u001b[39m \u001b[43mCollection\u001b[49m\u001b[43m(\u001b[49m\u001b[43mpath\u001b[49m\u001b[43m,\u001b[49m\u001b[43m \u001b[49m\u001b[43mmode\u001b[49m\u001b[43m,\u001b[49m\u001b[43m \u001b[49m\u001b[43mdriver\u001b[49m\u001b[38;5;241;43m=\u001b[39;49m\u001b[43mdriver\u001b[49m\u001b[43m,\u001b[49m\u001b[43m \u001b[49m\u001b[43mencoding\u001b[49m\u001b[38;5;241;43m=\u001b[39;49m\u001b[43mencoding\u001b[49m\u001b[43m,\u001b[49m\n\u001b[1;32m    265\u001b[0m \u001b[43m                   \u001b[49m\u001b[43mlayer\u001b[49m\u001b[38;5;241;43m=\u001b[39;49m\u001b[43mlayer\u001b[49m\u001b[43m,\u001b[49m\u001b[43m \u001b[49m\u001b[43menabled_drivers\u001b[49m\u001b[38;5;241;43m=\u001b[39;49m\u001b[43menabled_drivers\u001b[49m\u001b[43m,\u001b[49m\u001b[43m \u001b[49m\u001b[38;5;241;43m*\u001b[39;49m\u001b[38;5;241;43m*\u001b[39;49m\u001b[43mkwargs\u001b[49m\u001b[43m)\u001b[49m\n\u001b[1;32m    266\u001b[0m \u001b[38;5;28;01melif\u001b[39;00m mode \u001b[38;5;241m==\u001b[39m \u001b[38;5;124m'\u001b[39m\u001b[38;5;124mw\u001b[39m\u001b[38;5;124m'\u001b[39m:\n\u001b[1;32m    267\u001b[0m     \u001b[38;5;28;01mif\u001b[39;00m schema:\n\u001b[1;32m    268\u001b[0m         \u001b[38;5;66;03m# Make an ordered dict of schema properties.\u001b[39;00m\n",
      "File \u001b[0;32m~/.virtualenvs/willhaben/lib/python3.9/site-packages/fiona/collection.py:162\u001b[0m, in \u001b[0;36mCollection.__init__\u001b[0;34m(self, path, mode, driver, schema, crs, encoding, layer, vsi, archive, enabled_drivers, crs_wkt, ignore_fields, ignore_geometry, **kwargs)\u001b[0m\n\u001b[1;32m    160\u001b[0m \u001b[38;5;28;01mif\u001b[39;00m \u001b[38;5;28mself\u001b[39m\u001b[38;5;241m.\u001b[39mmode \u001b[38;5;241m==\u001b[39m \u001b[38;5;124m'\u001b[39m\u001b[38;5;124mr\u001b[39m\u001b[38;5;124m'\u001b[39m:\n\u001b[1;32m    161\u001b[0m     \u001b[38;5;28mself\u001b[39m\u001b[38;5;241m.\u001b[39msession \u001b[38;5;241m=\u001b[39m Session()\n\u001b[0;32m--> 162\u001b[0m     \u001b[38;5;28;43mself\u001b[39;49m\u001b[38;5;241;43m.\u001b[39;49m\u001b[43msession\u001b[49m\u001b[38;5;241;43m.\u001b[39;49m\u001b[43mstart\u001b[49m\u001b[43m(\u001b[49m\u001b[38;5;28;43mself\u001b[39;49m\u001b[43m,\u001b[49m\u001b[43m \u001b[49m\u001b[38;5;241;43m*\u001b[39;49m\u001b[38;5;241;43m*\u001b[39;49m\u001b[43mkwargs\u001b[49m\u001b[43m)\u001b[49m\n\u001b[1;32m    163\u001b[0m \u001b[38;5;28;01melif\u001b[39;00m \u001b[38;5;28mself\u001b[39m\u001b[38;5;241m.\u001b[39mmode \u001b[38;5;129;01min\u001b[39;00m (\u001b[38;5;124m'\u001b[39m\u001b[38;5;124ma\u001b[39m\u001b[38;5;124m'\u001b[39m, \u001b[38;5;124m'\u001b[39m\u001b[38;5;124mw\u001b[39m\u001b[38;5;124m'\u001b[39m):\n\u001b[1;32m    164\u001b[0m     \u001b[38;5;28mself\u001b[39m\u001b[38;5;241m.\u001b[39msession \u001b[38;5;241m=\u001b[39m WritingSession()\n",
      "File \u001b[0;32mfiona/ogrext.pyx:553\u001b[0m, in \u001b[0;36mfiona.ogrext.Session.start\u001b[0;34m()\u001b[0m\n",
      "\u001b[0;31mValueError\u001b[0m: Null layer: ''"
     ]
    }
   ],
   "source": [
    "gdf = gpd.read_file(\"graz.kml\")"
   ]
  },
  {
   "cell_type": "code",
   "execution_count": null,
   "id": "13e585ac",
   "metadata": {},
   "outputs": [],
   "source": []
  }
 ],
 "metadata": {
  "kernelspec": {
   "display_name": "webscraper",
   "language": "python",
   "name": "webscraper"
  },
  "language_info": {
   "codemirror_mode": {
    "name": "ipython",
    "version": 3
   },
   "file_extension": ".py",
   "mimetype": "text/x-python",
   "name": "python",
   "nbconvert_exporter": "python",
   "pygments_lexer": "ipython3",
   "version": "3.10.4"
  }
 },
 "nbformat": 4,
 "nbformat_minor": 5
}
