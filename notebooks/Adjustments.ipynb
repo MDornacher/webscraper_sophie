{
 "cells": [
  {
   "cell_type": "code",
   "execution_count": null,
   "id": "f9dbb878",
   "metadata": {},
   "outputs": [],
   "source": [
    "scrapy crawl willhaben"
   ]
  },
  {
   "cell_type": "code",
   "execution_count": null,
   "id": "130c8822",
   "metadata": {},
   "outputs": [],
   "source": [
    "from"
   ]
  }
 ],
 "metadata": {
  "kernelspec": {
   "display_name": "Python 3 (ipykernel)",
   "language": "python",
   "name": "python3"
  },
  "language_info": {
   "codemirror_mode": {
    "name": "ipython",
    "version": 3
   },
   "file_extension": ".py",
   "mimetype": "text/x-python",
   "name": "python",
   "nbconvert_exporter": "python",
   "pygments_lexer": "ipython3",
   "version": "3.9.7"
  }
 },
 "nbformat": 4,
 "nbformat_minor": 5
}
